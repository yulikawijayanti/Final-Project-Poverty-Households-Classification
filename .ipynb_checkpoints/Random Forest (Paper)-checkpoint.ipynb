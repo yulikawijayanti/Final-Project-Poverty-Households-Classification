{
 "cells": [
  {
   "cell_type": "markdown",
   "metadata": {},
   "source": [
    "# Tanpa Penanganan Penanganan Ketakseimbangan Data"
   ]
  },
  {
   "cell_type": "code",
   "execution_count": 105,
   "metadata": {},
   "outputs": [],
   "source": [
    "# Mengimport library yang dibutuhkan\n",
    "import numpy as np\n",
    "import pandas as pd\n",
    "import matplotlib.pyplot as plt\n",
    "import seaborn as sns\n",
    "\n",
    "from sklearn.model_selection import train_test_split, GridSearchCV\n",
    "from sklearn.pipeline import Pipeline\n",
    "from sklearn.compose import ColumnTransformer\n",
    "from sklearn.impute import SimpleImputer\n",
    "from sklearn.model_selection import StratifiedKFold\n",
    "\n",
    "from sklearn.ensemble import RandomForestClassifier\n",
    "\n",
    "from sklearn.metrics import plot_confusion_matrix\n",
    "import matplotlib.pyplot as plt\n",
    "\n",
    "from sklearn.metrics import accuracy_score, f1_score, precision_score, recall_score, confusion_matrix\n",
    "from sklearn.metrics import roc_curve, auc, plot_roc_curve\n",
    "from sklearn.metrics import matthews_corrcoef"
   ]
  },
  {
   "cell_type": "code",
   "execution_count": 106,
   "metadata": {},
   "outputs": [],
   "source": [
    "# Mengatur pandas agar mengeluarkan output untuk melihat keseluruhan kolom data\n",
    "pd.set_option('display.max_columns', None) "
   ]
  },
  {
   "cell_type": "markdown",
   "metadata": {},
   "source": [
    "## Input Data"
   ]
  },
  {
   "cell_type": "code",
   "execution_count": 107,
   "metadata": {},
   "outputs": [
    {
     "data": {
      "text/html": [
       "<div>\n",
       "<style scoped>\n",
       "    .dataframe tbody tr th:only-of-type {\n",
       "        vertical-align: middle;\n",
       "    }\n",
       "\n",
       "    .dataframe tbody tr th {\n",
       "        vertical-align: top;\n",
       "    }\n",
       "\n",
       "    .dataframe thead th {\n",
       "        text-align: right;\n",
       "    }\n",
       "</style>\n",
       "<table border=\"1\" class=\"dataframe\">\n",
       "  <thead>\n",
       "    <tr style=\"text-align: right;\">\n",
       "      <th></th>\n",
       "      <th>Luas lantai rumah</th>\n",
       "      <th>Jenis lantai rumah</th>\n",
       "      <th>Jenis dinding rumah</th>\n",
       "      <th>Fasilitas tempat buang air besar</th>\n",
       "      <th>Sumber air minum</th>\n",
       "      <th>Jenis bahan bakar</th>\n",
       "      <th>Sumber penerangan</th>\n",
       "      <th>Pernah tidak makan dalam sehari</th>\n",
       "      <th>Pernah melewatkan satu waktu makan dalam sehari</th>\n",
       "      <th>Kepemilikan kulkas</th>\n",
       "      <th>Kepemilikan AC</th>\n",
       "      <th>Kepemilikan perahu</th>\n",
       "      <th>Kepemilikan perahu motor</th>\n",
       "      <th>Kepemilikan pemanas air</th>\n",
       "      <th>Kepemilikan telepon rumah</th>\n",
       "      <th>Kepemilikan komputer</th>\n",
       "      <th>Kepemilikan emas</th>\n",
       "      <th>Kepemilikan sepeda motor</th>\n",
       "      <th>Kepemilikan mobil</th>\n",
       "      <th>Kepemilikan televisi</th>\n",
       "      <th>Kepemilikan tanah</th>\n",
       "      <th>Status tempat tinggal</th>\n",
       "      <th>Kemampuan KRT berobat ke puskesmas</th>\n",
       "      <th>Kepemilikan rekening tabungan KRT</th>\n",
       "      <th>Pendidikan tertinggi KRT</th>\n",
       "      <th>Lapangan pekerjaan KRT</th>\n",
       "      <th>Status RT</th>\n",
       "    </tr>\n",
       "    <tr>\n",
       "      <th>RENUM</th>\n",
       "      <th></th>\n",
       "      <th></th>\n",
       "      <th></th>\n",
       "      <th></th>\n",
       "      <th></th>\n",
       "      <th></th>\n",
       "      <th></th>\n",
       "      <th></th>\n",
       "      <th></th>\n",
       "      <th></th>\n",
       "      <th></th>\n",
       "      <th></th>\n",
       "      <th></th>\n",
       "      <th></th>\n",
       "      <th></th>\n",
       "      <th></th>\n",
       "      <th></th>\n",
       "      <th></th>\n",
       "      <th></th>\n",
       "      <th></th>\n",
       "      <th></th>\n",
       "      <th></th>\n",
       "      <th></th>\n",
       "      <th></th>\n",
       "      <th></th>\n",
       "      <th></th>\n",
       "      <th></th>\n",
       "    </tr>\n",
       "  </thead>\n",
       "  <tbody>\n",
       "    <tr>\n",
       "      <th>204022</th>\n",
       "      <td>9</td>\n",
       "      <td>6</td>\n",
       "      <td>4</td>\n",
       "      <td>2</td>\n",
       "      <td>2</td>\n",
       "      <td>0</td>\n",
       "      <td>1</td>\n",
       "      <td>2</td>\n",
       "      <td>2</td>\n",
       "      <td>0</td>\n",
       "      <td>0</td>\n",
       "      <td>0</td>\n",
       "      <td>0</td>\n",
       "      <td>0</td>\n",
       "      <td>0</td>\n",
       "      <td>0</td>\n",
       "      <td>0</td>\n",
       "      <td>0</td>\n",
       "      <td>0</td>\n",
       "      <td>0</td>\n",
       "      <td>0</td>\n",
       "      <td>2</td>\n",
       "      <td>0</td>\n",
       "      <td>1</td>\n",
       "      <td>7.0</td>\n",
       "      <td>24.0</td>\n",
       "      <td>0</td>\n",
       "    </tr>\n",
       "    <tr>\n",
       "      <th>204028</th>\n",
       "      <td>6</td>\n",
       "      <td>6</td>\n",
       "      <td>1</td>\n",
       "      <td>2</td>\n",
       "      <td>2</td>\n",
       "      <td>4</td>\n",
       "      <td>1</td>\n",
       "      <td>2</td>\n",
       "      <td>2</td>\n",
       "      <td>0</td>\n",
       "      <td>0</td>\n",
       "      <td>0</td>\n",
       "      <td>0</td>\n",
       "      <td>0</td>\n",
       "      <td>0</td>\n",
       "      <td>0</td>\n",
       "      <td>0</td>\n",
       "      <td>1</td>\n",
       "      <td>0</td>\n",
       "      <td>0</td>\n",
       "      <td>0</td>\n",
       "      <td>3</td>\n",
       "      <td>0</td>\n",
       "      <td>1</td>\n",
       "      <td>11.0</td>\n",
       "      <td>12.0</td>\n",
       "      <td>0</td>\n",
       "    </tr>\n",
       "    <tr>\n",
       "      <th>204436</th>\n",
       "      <td>8</td>\n",
       "      <td>2</td>\n",
       "      <td>1</td>\n",
       "      <td>1</td>\n",
       "      <td>1</td>\n",
       "      <td>4</td>\n",
       "      <td>2</td>\n",
       "      <td>2</td>\n",
       "      <td>2</td>\n",
       "      <td>0</td>\n",
       "      <td>0</td>\n",
       "      <td>0</td>\n",
       "      <td>0</td>\n",
       "      <td>0</td>\n",
       "      <td>0</td>\n",
       "      <td>1</td>\n",
       "      <td>0</td>\n",
       "      <td>1</td>\n",
       "      <td>0</td>\n",
       "      <td>0</td>\n",
       "      <td>0</td>\n",
       "      <td>2</td>\n",
       "      <td>0</td>\n",
       "      <td>1</td>\n",
       "      <td>11.0</td>\n",
       "      <td>19.0</td>\n",
       "      <td>0</td>\n",
       "    </tr>\n",
       "    <tr>\n",
       "      <th>204437</th>\n",
       "      <td>75</td>\n",
       "      <td>2</td>\n",
       "      <td>1</td>\n",
       "      <td>1</td>\n",
       "      <td>1</td>\n",
       "      <td>4</td>\n",
       "      <td>1</td>\n",
       "      <td>2</td>\n",
       "      <td>2</td>\n",
       "      <td>1</td>\n",
       "      <td>0</td>\n",
       "      <td>0</td>\n",
       "      <td>0</td>\n",
       "      <td>0</td>\n",
       "      <td>0</td>\n",
       "      <td>0</td>\n",
       "      <td>0</td>\n",
       "      <td>1</td>\n",
       "      <td>0</td>\n",
       "      <td>0</td>\n",
       "      <td>0</td>\n",
       "      <td>1</td>\n",
       "      <td>0</td>\n",
       "      <td>1</td>\n",
       "      <td>18.0</td>\n",
       "      <td>14.0</td>\n",
       "      <td>0</td>\n",
       "    </tr>\n",
       "    <tr>\n",
       "      <th>204441</th>\n",
       "      <td>15</td>\n",
       "      <td>4</td>\n",
       "      <td>1</td>\n",
       "      <td>2</td>\n",
       "      <td>2</td>\n",
       "      <td>4</td>\n",
       "      <td>1</td>\n",
       "      <td>2</td>\n",
       "      <td>2</td>\n",
       "      <td>0</td>\n",
       "      <td>0</td>\n",
       "      <td>0</td>\n",
       "      <td>0</td>\n",
       "      <td>0</td>\n",
       "      <td>0</td>\n",
       "      <td>0</td>\n",
       "      <td>0</td>\n",
       "      <td>1</td>\n",
       "      <td>0</td>\n",
       "      <td>0</td>\n",
       "      <td>0</td>\n",
       "      <td>2</td>\n",
       "      <td>0</td>\n",
       "      <td>0</td>\n",
       "      <td>11.0</td>\n",
       "      <td>12.0</td>\n",
       "      <td>0</td>\n",
       "    </tr>\n",
       "  </tbody>\n",
       "</table>\n",
       "</div>"
      ],
      "text/plain": [
       "        Luas lantai rumah  Jenis lantai rumah  Jenis dinding rumah  \\\n",
       "RENUM                                                                \n",
       "204022                  9                   6                    4   \n",
       "204028                  6                   6                    1   \n",
       "204436                  8                   2                    1   \n",
       "204437                 75                   2                    1   \n",
       "204441                 15                   4                    1   \n",
       "\n",
       "        Fasilitas tempat buang air besar  Sumber air minum  Jenis bahan bakar  \\\n",
       "RENUM                                                                           \n",
       "204022                                 2                 2                  0   \n",
       "204028                                 2                 2                  4   \n",
       "204436                                 1                 1                  4   \n",
       "204437                                 1                 1                  4   \n",
       "204441                                 2                 2                  4   \n",
       "\n",
       "        Sumber penerangan  Pernah tidak makan dalam sehari  \\\n",
       "RENUM                                                        \n",
       "204022                  1                                2   \n",
       "204028                  1                                2   \n",
       "204436                  2                                2   \n",
       "204437                  1                                2   \n",
       "204441                  1                                2   \n",
       "\n",
       "        Pernah melewatkan satu waktu makan dalam sehari  Kepemilikan kulkas  \\\n",
       "RENUM                                                                         \n",
       "204022                                                2                   0   \n",
       "204028                                                2                   0   \n",
       "204436                                                2                   0   \n",
       "204437                                                2                   1   \n",
       "204441                                                2                   0   \n",
       "\n",
       "        Kepemilikan AC  Kepemilikan perahu  Kepemilikan perahu motor  \\\n",
       "RENUM                                                                  \n",
       "204022               0                   0                         0   \n",
       "204028               0                   0                         0   \n",
       "204436               0                   0                         0   \n",
       "204437               0                   0                         0   \n",
       "204441               0                   0                         0   \n",
       "\n",
       "        Kepemilikan pemanas air  Kepemilikan telepon rumah  \\\n",
       "RENUM                                                        \n",
       "204022                        0                          0   \n",
       "204028                        0                          0   \n",
       "204436                        0                          0   \n",
       "204437                        0                          0   \n",
       "204441                        0                          0   \n",
       "\n",
       "        Kepemilikan komputer  Kepemilikan emas  Kepemilikan sepeda motor  \\\n",
       "RENUM                                                                      \n",
       "204022                     0                 0                         0   \n",
       "204028                     0                 0                         1   \n",
       "204436                     1                 0                         1   \n",
       "204437                     0                 0                         1   \n",
       "204441                     0                 0                         1   \n",
       "\n",
       "        Kepemilikan mobil  Kepemilikan televisi  Kepemilikan tanah  \\\n",
       "RENUM                                                                \n",
       "204022                  0                     0                  0   \n",
       "204028                  0                     0                  0   \n",
       "204436                  0                     0                  0   \n",
       "204437                  0                     0                  0   \n",
       "204441                  0                     0                  0   \n",
       "\n",
       "        Status tempat tinggal  Kemampuan KRT berobat ke puskesmas  \\\n",
       "RENUM                                                               \n",
       "204022                      2                                   0   \n",
       "204028                      3                                   0   \n",
       "204436                      2                                   0   \n",
       "204437                      1                                   0   \n",
       "204441                      2                                   0   \n",
       "\n",
       "        Kepemilikan rekening tabungan KRT  Pendidikan tertinggi KRT  \\\n",
       "RENUM                                                                 \n",
       "204022                                  1                       7.0   \n",
       "204028                                  1                      11.0   \n",
       "204436                                  1                      11.0   \n",
       "204437                                  1                      18.0   \n",
       "204441                                  0                      11.0   \n",
       "\n",
       "        Lapangan pekerjaan KRT  Status RT  \n",
       "RENUM                                      \n",
       "204022                    24.0          0  \n",
       "204028                    12.0          0  \n",
       "204436                    19.0          0  \n",
       "204437                    14.0          0  \n",
       "204441                    12.0          0  "
      ]
     },
     "execution_count": 107,
     "metadata": {},
     "output_type": "execute_result"
    }
   ],
   "source": [
    "# Input Data \n",
    "df = pd.read_csv(\"data_integrasi_ta.csv\", index_col=\"RENUM\")\n",
    "df.head()"
   ]
  },
  {
   "cell_type": "code",
   "execution_count": 108,
   "metadata": {},
   "outputs": [
    {
     "data": {
      "text/plain": [
       "0    5953\n",
       "1     278\n",
       "Name: Status RT, dtype: int64"
      ]
     },
     "execution_count": 108,
     "metadata": {},
     "output_type": "execute_result"
    }
   ],
   "source": [
    "# Melihat jumlah dari setiap kategori variabel respon Status RT\n",
    "df['Status RT'].value_counts()"
   ]
  },
  {
   "cell_type": "code",
   "execution_count": 109,
   "metadata": {},
   "outputs": [],
   "source": [
    "# Mengubah tipe variabel\n",
    "df[\"Pendidikan tertinggi KRT\"] = df[\"Pendidikan tertinggi KRT\"].astype(\"Int64\")\n",
    "df[\"Lapangan pekerjaan KRT\"] = df[\"Lapangan pekerjaan KRT\"].astype(\"Int64\")"
   ]
  },
  {
   "cell_type": "code",
   "execution_count": 110,
   "metadata": {},
   "outputs": [
    {
     "data": {
      "text/html": [
       "<div>\n",
       "<style scoped>\n",
       "    .dataframe tbody tr th:only-of-type {\n",
       "        vertical-align: middle;\n",
       "    }\n",
       "\n",
       "    .dataframe tbody tr th {\n",
       "        vertical-align: top;\n",
       "    }\n",
       "\n",
       "    .dataframe thead th {\n",
       "        text-align: right;\n",
       "    }\n",
       "</style>\n",
       "<table border=\"1\" class=\"dataframe\">\n",
       "  <thead>\n",
       "    <tr style=\"text-align: right;\">\n",
       "      <th></th>\n",
       "      <th>Luas lantai rumah</th>\n",
       "      <th>Jenis lantai rumah</th>\n",
       "      <th>Jenis dinding rumah</th>\n",
       "      <th>Fasilitas tempat buang air besar</th>\n",
       "      <th>Sumber air minum</th>\n",
       "      <th>Jenis bahan bakar</th>\n",
       "      <th>Sumber penerangan</th>\n",
       "      <th>Pernah tidak makan dalam sehari</th>\n",
       "      <th>Pernah melewatkan satu waktu makan dalam sehari</th>\n",
       "      <th>Kepemilikan kulkas</th>\n",
       "      <th>Kepemilikan AC</th>\n",
       "      <th>Kepemilikan perahu</th>\n",
       "      <th>Kepemilikan perahu motor</th>\n",
       "      <th>Kepemilikan pemanas air</th>\n",
       "      <th>Kepemilikan telepon rumah</th>\n",
       "      <th>Kepemilikan komputer</th>\n",
       "      <th>Kepemilikan emas</th>\n",
       "      <th>Kepemilikan sepeda motor</th>\n",
       "      <th>Kepemilikan mobil</th>\n",
       "      <th>Kepemilikan televisi</th>\n",
       "      <th>Kepemilikan tanah</th>\n",
       "      <th>Status tempat tinggal</th>\n",
       "      <th>Kemampuan KRT berobat ke puskesmas</th>\n",
       "      <th>Kepemilikan rekening tabungan KRT</th>\n",
       "      <th>Pendidikan tertinggi KRT</th>\n",
       "      <th>Lapangan pekerjaan KRT</th>\n",
       "      <th>Status RT</th>\n",
       "    </tr>\n",
       "    <tr>\n",
       "      <th>RENUM</th>\n",
       "      <th></th>\n",
       "      <th></th>\n",
       "      <th></th>\n",
       "      <th></th>\n",
       "      <th></th>\n",
       "      <th></th>\n",
       "      <th></th>\n",
       "      <th></th>\n",
       "      <th></th>\n",
       "      <th></th>\n",
       "      <th></th>\n",
       "      <th></th>\n",
       "      <th></th>\n",
       "      <th></th>\n",
       "      <th></th>\n",
       "      <th></th>\n",
       "      <th></th>\n",
       "      <th></th>\n",
       "      <th></th>\n",
       "      <th></th>\n",
       "      <th></th>\n",
       "      <th></th>\n",
       "      <th></th>\n",
       "      <th></th>\n",
       "      <th></th>\n",
       "      <th></th>\n",
       "      <th></th>\n",
       "    </tr>\n",
       "  </thead>\n",
       "  <tbody>\n",
       "    <tr>\n",
       "      <th>204022</th>\n",
       "      <td>9</td>\n",
       "      <td>6</td>\n",
       "      <td>4</td>\n",
       "      <td>2</td>\n",
       "      <td>2</td>\n",
       "      <td>0</td>\n",
       "      <td>1</td>\n",
       "      <td>2</td>\n",
       "      <td>2</td>\n",
       "      <td>0</td>\n",
       "      <td>0</td>\n",
       "      <td>0</td>\n",
       "      <td>0</td>\n",
       "      <td>0</td>\n",
       "      <td>0</td>\n",
       "      <td>0</td>\n",
       "      <td>0</td>\n",
       "      <td>0</td>\n",
       "      <td>0</td>\n",
       "      <td>0</td>\n",
       "      <td>0</td>\n",
       "      <td>2</td>\n",
       "      <td>0</td>\n",
       "      <td>1</td>\n",
       "      <td>7</td>\n",
       "      <td>24</td>\n",
       "      <td>0</td>\n",
       "    </tr>\n",
       "    <tr>\n",
       "      <th>204028</th>\n",
       "      <td>6</td>\n",
       "      <td>6</td>\n",
       "      <td>1</td>\n",
       "      <td>2</td>\n",
       "      <td>2</td>\n",
       "      <td>4</td>\n",
       "      <td>1</td>\n",
       "      <td>2</td>\n",
       "      <td>2</td>\n",
       "      <td>0</td>\n",
       "      <td>0</td>\n",
       "      <td>0</td>\n",
       "      <td>0</td>\n",
       "      <td>0</td>\n",
       "      <td>0</td>\n",
       "      <td>0</td>\n",
       "      <td>0</td>\n",
       "      <td>1</td>\n",
       "      <td>0</td>\n",
       "      <td>0</td>\n",
       "      <td>0</td>\n",
       "      <td>3</td>\n",
       "      <td>0</td>\n",
       "      <td>1</td>\n",
       "      <td>11</td>\n",
       "      <td>12</td>\n",
       "      <td>0</td>\n",
       "    </tr>\n",
       "    <tr>\n",
       "      <th>204436</th>\n",
       "      <td>8</td>\n",
       "      <td>2</td>\n",
       "      <td>1</td>\n",
       "      <td>1</td>\n",
       "      <td>1</td>\n",
       "      <td>4</td>\n",
       "      <td>2</td>\n",
       "      <td>2</td>\n",
       "      <td>2</td>\n",
       "      <td>0</td>\n",
       "      <td>0</td>\n",
       "      <td>0</td>\n",
       "      <td>0</td>\n",
       "      <td>0</td>\n",
       "      <td>0</td>\n",
       "      <td>1</td>\n",
       "      <td>0</td>\n",
       "      <td>1</td>\n",
       "      <td>0</td>\n",
       "      <td>0</td>\n",
       "      <td>0</td>\n",
       "      <td>2</td>\n",
       "      <td>0</td>\n",
       "      <td>1</td>\n",
       "      <td>11</td>\n",
       "      <td>19</td>\n",
       "      <td>0</td>\n",
       "    </tr>\n",
       "    <tr>\n",
       "      <th>204437</th>\n",
       "      <td>75</td>\n",
       "      <td>2</td>\n",
       "      <td>1</td>\n",
       "      <td>1</td>\n",
       "      <td>1</td>\n",
       "      <td>4</td>\n",
       "      <td>1</td>\n",
       "      <td>2</td>\n",
       "      <td>2</td>\n",
       "      <td>1</td>\n",
       "      <td>0</td>\n",
       "      <td>0</td>\n",
       "      <td>0</td>\n",
       "      <td>0</td>\n",
       "      <td>0</td>\n",
       "      <td>0</td>\n",
       "      <td>0</td>\n",
       "      <td>1</td>\n",
       "      <td>0</td>\n",
       "      <td>0</td>\n",
       "      <td>0</td>\n",
       "      <td>1</td>\n",
       "      <td>0</td>\n",
       "      <td>1</td>\n",
       "      <td>18</td>\n",
       "      <td>14</td>\n",
       "      <td>0</td>\n",
       "    </tr>\n",
       "    <tr>\n",
       "      <th>204441</th>\n",
       "      <td>15</td>\n",
       "      <td>4</td>\n",
       "      <td>1</td>\n",
       "      <td>2</td>\n",
       "      <td>2</td>\n",
       "      <td>4</td>\n",
       "      <td>1</td>\n",
       "      <td>2</td>\n",
       "      <td>2</td>\n",
       "      <td>0</td>\n",
       "      <td>0</td>\n",
       "      <td>0</td>\n",
       "      <td>0</td>\n",
       "      <td>0</td>\n",
       "      <td>0</td>\n",
       "      <td>0</td>\n",
       "      <td>0</td>\n",
       "      <td>1</td>\n",
       "      <td>0</td>\n",
       "      <td>0</td>\n",
       "      <td>0</td>\n",
       "      <td>2</td>\n",
       "      <td>0</td>\n",
       "      <td>0</td>\n",
       "      <td>11</td>\n",
       "      <td>12</td>\n",
       "      <td>0</td>\n",
       "    </tr>\n",
       "  </tbody>\n",
       "</table>\n",
       "</div>"
      ],
      "text/plain": [
       "        Luas lantai rumah  Jenis lantai rumah  Jenis dinding rumah  \\\n",
       "RENUM                                                                \n",
       "204022                  9                   6                    4   \n",
       "204028                  6                   6                    1   \n",
       "204436                  8                   2                    1   \n",
       "204437                 75                   2                    1   \n",
       "204441                 15                   4                    1   \n",
       "\n",
       "        Fasilitas tempat buang air besar  Sumber air minum  Jenis bahan bakar  \\\n",
       "RENUM                                                                           \n",
       "204022                                 2                 2                  0   \n",
       "204028                                 2                 2                  4   \n",
       "204436                                 1                 1                  4   \n",
       "204437                                 1                 1                  4   \n",
       "204441                                 2                 2                  4   \n",
       "\n",
       "        Sumber penerangan  Pernah tidak makan dalam sehari  \\\n",
       "RENUM                                                        \n",
       "204022                  1                                2   \n",
       "204028                  1                                2   \n",
       "204436                  2                                2   \n",
       "204437                  1                                2   \n",
       "204441                  1                                2   \n",
       "\n",
       "        Pernah melewatkan satu waktu makan dalam sehari  Kepemilikan kulkas  \\\n",
       "RENUM                                                                         \n",
       "204022                                                2                   0   \n",
       "204028                                                2                   0   \n",
       "204436                                                2                   0   \n",
       "204437                                                2                   1   \n",
       "204441                                                2                   0   \n",
       "\n",
       "        Kepemilikan AC  Kepemilikan perahu  Kepemilikan perahu motor  \\\n",
       "RENUM                                                                  \n",
       "204022               0                   0                         0   \n",
       "204028               0                   0                         0   \n",
       "204436               0                   0                         0   \n",
       "204437               0                   0                         0   \n",
       "204441               0                   0                         0   \n",
       "\n",
       "        Kepemilikan pemanas air  Kepemilikan telepon rumah  \\\n",
       "RENUM                                                        \n",
       "204022                        0                          0   \n",
       "204028                        0                          0   \n",
       "204436                        0                          0   \n",
       "204437                        0                          0   \n",
       "204441                        0                          0   \n",
       "\n",
       "        Kepemilikan komputer  Kepemilikan emas  Kepemilikan sepeda motor  \\\n",
       "RENUM                                                                      \n",
       "204022                     0                 0                         0   \n",
       "204028                     0                 0                         1   \n",
       "204436                     1                 0                         1   \n",
       "204437                     0                 0                         1   \n",
       "204441                     0                 0                         1   \n",
       "\n",
       "        Kepemilikan mobil  Kepemilikan televisi  Kepemilikan tanah  \\\n",
       "RENUM                                                                \n",
       "204022                  0                     0                  0   \n",
       "204028                  0                     0                  0   \n",
       "204436                  0                     0                  0   \n",
       "204437                  0                     0                  0   \n",
       "204441                  0                     0                  0   \n",
       "\n",
       "        Status tempat tinggal  Kemampuan KRT berobat ke puskesmas  \\\n",
       "RENUM                                                               \n",
       "204022                      2                                   0   \n",
       "204028                      3                                   0   \n",
       "204436                      2                                   0   \n",
       "204437                      1                                   0   \n",
       "204441                      2                                   0   \n",
       "\n",
       "        Kepemilikan rekening tabungan KRT  Pendidikan tertinggi KRT  \\\n",
       "RENUM                                                                 \n",
       "204022                                  1                         7   \n",
       "204028                                  1                        11   \n",
       "204436                                  1                        11   \n",
       "204437                                  1                        18   \n",
       "204441                                  0                        11   \n",
       "\n",
       "        Lapangan pekerjaan KRT  Status RT  \n",
       "RENUM                                      \n",
       "204022                      24          0  \n",
       "204028                      12          0  \n",
       "204436                      19          0  \n",
       "204437                      14          0  \n",
       "204441                      12          0  "
      ]
     },
     "execution_count": 110,
     "metadata": {},
     "output_type": "execute_result"
    }
   ],
   "source": [
    "# Melihat lima data teratas\n",
    "df.head()"
   ]
  },
  {
   "cell_type": "markdown",
   "metadata": {},
   "source": [
    "## Dataset Splitting"
   ]
  },
  {
   "cell_type": "code",
   "execution_count": 111,
   "metadata": {},
   "outputs": [
    {
     "data": {
      "text/plain": [
       "((4361, 26), (1870, 26), (4361,), (1870,))"
      ]
     },
     "execution_count": 111,
     "metadata": {},
     "output_type": "execute_result"
    }
   ],
   "source": [
    "# Data yang terdiri dari variabel prediktor\n",
    "X = df.drop(columns=\"Status RT\")\n",
    "\n",
    "# Data yang terdiri dari variabel respon\n",
    "y = df[\"Status RT\"]\n",
    "\n",
    "# Membagi data menjadi data training dan data testing dengan perbandingan (70:30) dengan skema stratified\n",
    "X_train, X_test, y_train, y_test = train_test_split(X, y, test_size=0.3, stratify=y, random_state=1)\n",
    "\n",
    "# Melihat ukuran data setelah di bagi\n",
    "X_train.shape, X_test.shape, y_train.shape, y_test.shape"
   ]
  },
  {
   "cell_type": "code",
   "execution_count": 112,
   "metadata": {},
   "outputs": [
    {
     "name": "stdout",
     "output_type": "stream",
     "text": [
      "0    4166\n",
      "1     195\n",
      "Name: Status RT, dtype: int64\n",
      "0    1787\n",
      "1      83\n",
      "Name: Status RT, dtype: int64\n"
     ]
    }
   ],
   "source": [
    "# Melihat jumlah dari setiap kategori variabel respon pada data training\n",
    "print(y_train.value_counts())\n",
    "\n",
    "# Melihat jumlah dari setiap kategori variabel respon pada data testing\n",
    "print(y_test.value_counts())"
   ]
  },
  {
   "cell_type": "code",
   "execution_count": 113,
   "metadata": {},
   "outputs": [
    {
     "data": {
      "text/plain": [
       "Index(['Luas lantai rumah', 'Jenis lantai rumah', 'Jenis dinding rumah',\n",
       "       'Fasilitas tempat buang air besar', 'Sumber air minum',\n",
       "       'Jenis bahan bakar', 'Sumber penerangan',\n",
       "       'Pernah tidak makan dalam sehari',\n",
       "       'Pernah melewatkan satu waktu makan dalam sehari', 'Kepemilikan kulkas',\n",
       "       'Kepemilikan AC', 'Kepemilikan perahu', 'Kepemilikan perahu motor',\n",
       "       'Kepemilikan pemanas air', 'Kepemilikan telepon rumah',\n",
       "       'Kepemilikan komputer', 'Kepemilikan emas', 'Kepemilikan sepeda motor',\n",
       "       'Kepemilikan mobil', 'Kepemilikan televisi', 'Kepemilikan tanah',\n",
       "       'Status tempat tinggal', 'Kemampuan KRT berobat ke puskesmas',\n",
       "       'Kepemilikan rekening tabungan KRT', 'Pendidikan tertinggi KRT',\n",
       "       'Lapangan pekerjaan KRT', 'Status RT'],\n",
       "      dtype='object')"
      ]
     },
     "execution_count": 113,
     "metadata": {},
     "output_type": "execute_result"
    }
   ],
   "source": [
    "# Melihat kolom yang tersedia pada data\n",
    "df.columns"
   ]
  },
  {
   "cell_type": "markdown",
   "metadata": {},
   "source": [
    "## Preprocessing"
   ]
  },
  {
   "cell_type": "markdown",
   "metadata": {},
   "source": [
    "Membuat pipeline untuk variabel numerik untuk dilakukan prapemrosesan data sebelum dilakukan pemodelan."
   ]
  },
  {
   "cell_type": "code",
   "execution_count": 114,
   "metadata": {},
   "outputs": [],
   "source": [
    "# Pipeline untuk variabel numerik, mengisi missing value dengan nilai median\n",
    "numerical_pipeline = Pipeline([\n",
    "    (\"imputer\", SimpleImputer(strategy=\"median\"))\n",
    "])\n",
    "\n",
    "# Pipeline untuk variabel kategorik, mengisi missing value dengan nilai modus\n",
    "categorical_pipeline = Pipeline([\n",
    "    (\"imputer\", SimpleImputer(strategy=\"most_frequent\"))\n",
    "])\n",
    "\n",
    "# Menempatkan setiap variabel sesuai dengan pipelinenya\n",
    "preprocessor = ColumnTransformer([\n",
    "    (\"numeric\", numerical_pipeline, ['Luas lantai rumah']),\n",
    "    (\"categoric\", categorical_pipeline,['Jenis lantai rumah', 'Jenis dinding rumah',\n",
    "       'Fasilitas tempat buang air besar', 'Sumber air minum',\n",
    "       'Jenis bahan bakar', 'Sumber penerangan',\n",
    "       'Pernah tidak makan dalam sehari',\n",
    "       'Pernah melewatkan satu waktu makan dalam sehari', 'Kepemilikan kulkas',\n",
    "       'Kepemilikan AC', 'Kepemilikan perahu', 'Kepemilikan perahu motor',\n",
    "       'Kepemilikan pemanas air', 'Kepemilikan telepon rumah',\n",
    "       'Kepemilikan komputer', 'Kepemilikan emas', 'Kepemilikan sepeda motor',\n",
    "       'Kepemilikan mobil', 'Kepemilikan televisi', 'Kepemilikan tanah',\n",
    "       'Status tempat tinggal', 'Kemampuan KRT berobat ke puskesmas',\n",
    "       'Kepemilikan rekening tabungan KRT', 'Pendidikan tertinggi KRT',\n",
    "       'Lapangan pekerjaan KRT'])\n",
    "])"
   ]
  },
  {
   "cell_type": "markdown",
   "metadata": {},
   "source": [
    "## Pipeline Training"
   ]
  },
  {
   "cell_type": "code",
   "execution_count": 115,
   "metadata": {},
   "outputs": [
    {
     "name": "stdout",
     "output_type": "stream",
     "text": [
      "Fitting 5 folds for each of 8 candidates, totalling 40 fits\n"
     ]
    },
    {
     "name": "stderr",
     "output_type": "stream",
     "text": [
      "[Parallel(n_jobs=-1)]: Using backend LokyBackend with 8 concurrent workers.\n",
      "[Parallel(n_jobs=-1)]: Done  40 out of  40 | elapsed:   13.6s finished\n"
     ]
    },
    {
     "name": "stdout",
     "output_type": "stream",
     "text": [
      "{'algo__max_features': 'sqrt', 'algo__n_estimators': 100}\n"
     ]
    }
   ],
   "source": [
    "# Pipeline untuk preprocessing dan modeling\n",
    "pipeline = Pipeline([\n",
    "    ('prep', preprocessor),\n",
    "    ('algo', RandomForestClassifier(n_jobs=-1, random_state=1))\n",
    "])\n",
    "\n",
    "# Hyperparameter yang akan dituning\n",
    "parameter = {\n",
    "    'algo__n_estimators': [50, 100, 500, 1000],\n",
    "    'algo__max_features': ['sqrt', 'log2'],\n",
    "}\n",
    "\n",
    "\n",
    "# Mendefinisikaan stratified cross validation dengan k=5\n",
    "cv = StratifiedKFold(n_splits=5, shuffle=True, random_state=1)\n",
    "\n",
    "# Modeling dan hyperparameter tuning dengan grid search cv dan scoring f1 score\n",
    "model = GridSearchCV(pipeline, parameter, cv=cv, scoring='f1', n_jobs=-1, verbose=1)\n",
    "model.fit(X_train, y_train)\n",
    "\n",
    "# Print hasil hyperparameter terbaik dari hyperparameter tuning\n",
    "print(model.best_params_)"
   ]
  },
  {
   "cell_type": "markdown",
   "metadata": {},
   "source": [
    "Diperoleh hyperparameter terbaik untuk max features adalah **sqrt** dan n estimator adalah **100**."
   ]
  },
  {
   "cell_type": "code",
   "execution_count": 116,
   "metadata": {},
   "outputs": [
    {
     "data": {
      "text/html": [
       "<div>\n",
       "<style scoped>\n",
       "    .dataframe tbody tr th:only-of-type {\n",
       "        vertical-align: middle;\n",
       "    }\n",
       "\n",
       "    .dataframe tbody tr th {\n",
       "        vertical-align: top;\n",
       "    }\n",
       "\n",
       "    .dataframe thead th {\n",
       "        text-align: right;\n",
       "    }\n",
       "</style>\n",
       "<table border=\"1\" class=\"dataframe\">\n",
       "  <thead>\n",
       "    <tr style=\"text-align: right;\">\n",
       "      <th></th>\n",
       "      <th>max_features</th>\n",
       "      <th>n_estimators</th>\n",
       "      <th>Tes skor fold 1</th>\n",
       "      <th>Tes skor fold 2</th>\n",
       "      <th>Tes skor fold 3</th>\n",
       "      <th>Tes skor fold 4</th>\n",
       "      <th>Tes skor fold 5</th>\n",
       "      <th>Rata-rata tes skor</th>\n",
       "      <th>Rank tes skor</th>\n",
       "    </tr>\n",
       "  </thead>\n",
       "  <tbody>\n",
       "    <tr>\n",
       "      <th>1</th>\n",
       "      <td>sqrt</td>\n",
       "      <td>100</td>\n",
       "      <td>0.090909</td>\n",
       "      <td>0.044444</td>\n",
       "      <td>0.0</td>\n",
       "      <td>0.0</td>\n",
       "      <td>0.000000</td>\n",
       "      <td>0.027071</td>\n",
       "      <td>1</td>\n",
       "    </tr>\n",
       "    <tr>\n",
       "      <th>2</th>\n",
       "      <td>sqrt</td>\n",
       "      <td>500</td>\n",
       "      <td>0.047619</td>\n",
       "      <td>0.086957</td>\n",
       "      <td>0.0</td>\n",
       "      <td>0.0</td>\n",
       "      <td>0.000000</td>\n",
       "      <td>0.026915</td>\n",
       "      <td>2</td>\n",
       "    </tr>\n",
       "    <tr>\n",
       "      <th>4</th>\n",
       "      <td>log2</td>\n",
       "      <td>50</td>\n",
       "      <td>0.000000</td>\n",
       "      <td>0.000000</td>\n",
       "      <td>0.0</td>\n",
       "      <td>0.0</td>\n",
       "      <td>0.093023</td>\n",
       "      <td>0.018605</td>\n",
       "      <td>3</td>\n",
       "    </tr>\n",
       "    <tr>\n",
       "      <th>3</th>\n",
       "      <td>sqrt</td>\n",
       "      <td>1000</td>\n",
       "      <td>0.047619</td>\n",
       "      <td>0.000000</td>\n",
       "      <td>0.0</td>\n",
       "      <td>0.0</td>\n",
       "      <td>0.000000</td>\n",
       "      <td>0.009524</td>\n",
       "      <td>4</td>\n",
       "    </tr>\n",
       "    <tr>\n",
       "      <th>6</th>\n",
       "      <td>log2</td>\n",
       "      <td>500</td>\n",
       "      <td>0.047619</td>\n",
       "      <td>0.000000</td>\n",
       "      <td>0.0</td>\n",
       "      <td>0.0</td>\n",
       "      <td>0.000000</td>\n",
       "      <td>0.009524</td>\n",
       "      <td>4</td>\n",
       "    </tr>\n",
       "    <tr>\n",
       "      <th>7</th>\n",
       "      <td>log2</td>\n",
       "      <td>1000</td>\n",
       "      <td>0.047619</td>\n",
       "      <td>0.000000</td>\n",
       "      <td>0.0</td>\n",
       "      <td>0.0</td>\n",
       "      <td>0.000000</td>\n",
       "      <td>0.009524</td>\n",
       "      <td>4</td>\n",
       "    </tr>\n",
       "    <tr>\n",
       "      <th>5</th>\n",
       "      <td>log2</td>\n",
       "      <td>100</td>\n",
       "      <td>0.046512</td>\n",
       "      <td>0.000000</td>\n",
       "      <td>0.0</td>\n",
       "      <td>0.0</td>\n",
       "      <td>0.000000</td>\n",
       "      <td>0.009302</td>\n",
       "      <td>7</td>\n",
       "    </tr>\n",
       "    <tr>\n",
       "      <th>0</th>\n",
       "      <td>sqrt</td>\n",
       "      <td>50</td>\n",
       "      <td>0.044444</td>\n",
       "      <td>0.000000</td>\n",
       "      <td>0.0</td>\n",
       "      <td>0.0</td>\n",
       "      <td>0.000000</td>\n",
       "      <td>0.008889</td>\n",
       "      <td>8</td>\n",
       "    </tr>\n",
       "  </tbody>\n",
       "</table>\n",
       "</div>"
      ],
      "text/plain": [
       "  max_features n_estimators  Tes skor fold 1  Tes skor fold 2  \\\n",
       "1         sqrt          100         0.090909         0.044444   \n",
       "2         sqrt          500         0.047619         0.086957   \n",
       "4         log2           50         0.000000         0.000000   \n",
       "3         sqrt         1000         0.047619         0.000000   \n",
       "6         log2          500         0.047619         0.000000   \n",
       "7         log2         1000         0.047619         0.000000   \n",
       "5         log2          100         0.046512         0.000000   \n",
       "0         sqrt           50         0.044444         0.000000   \n",
       "\n",
       "   Tes skor fold 3  Tes skor fold 4  Tes skor fold 5  Rata-rata tes skor  \\\n",
       "1              0.0              0.0         0.000000            0.027071   \n",
       "2              0.0              0.0         0.000000            0.026915   \n",
       "4              0.0              0.0         0.093023            0.018605   \n",
       "3              0.0              0.0         0.000000            0.009524   \n",
       "6              0.0              0.0         0.000000            0.009524   \n",
       "7              0.0              0.0         0.000000            0.009524   \n",
       "5              0.0              0.0         0.000000            0.009302   \n",
       "0              0.0              0.0         0.000000            0.008889   \n",
       "\n",
       "   Rank tes skor  \n",
       "1              1  \n",
       "2              2  \n",
       "4              3  \n",
       "3              4  \n",
       "6              4  \n",
       "7              4  \n",
       "5              7  \n",
       "0              8  "
      ]
     },
     "execution_count": 116,
     "metadata": {},
     "output_type": "execute_result"
    }
   ],
   "source": [
    "# Hasil grid search CV setiap kombinasi hyperparameter\n",
    "gridsearchcv = pd.DataFrame({'max_features': model.cv_results_['param_algo__max_features'], \n",
    "                              'n_estimators': model.cv_results_['param_algo__n_estimators'],\n",
    "                              'Tes skor fold 1': model.cv_results_['split0_test_score'],\n",
    "                              'Tes skor fold 2': model.cv_results_['split1_test_score'],\n",
    "                              'Tes skor fold 3': model.cv_results_['split2_test_score'],\n",
    "                              'Tes skor fold 4': model.cv_results_['split3_test_score'],\n",
    "                              'Tes skor fold 5': model.cv_results_['split4_test_score'],\n",
    "                              'Rata-rata tes skor': model.cv_results_['mean_test_score'],\n",
    "                              'Rank tes skor': model.cv_results_['rank_test_score']})\n",
    "gridsearchcv = gridsearchcv.sort_values(by=['Rank tes skor'])\n",
    "gridsearchcv"
   ]
  },
  {
   "cell_type": "code",
   "execution_count": 117,
   "metadata": {},
   "outputs": [],
   "source": [
    "# Eksport ke CSV file\n",
    "gridsearchcv.to_excel('gridsearchcv_rf.xlsx', index=False)"
   ]
  },
  {
   "cell_type": "code",
   "execution_count": 118,
   "metadata": {},
   "outputs": [
    {
     "name": "stderr",
     "output_type": "stream",
     "text": [
      "[Parallel(n_jobs=-1)]: Using backend ThreadingBackend with 8 concurrent workers.\n",
      "[Parallel(n_jobs=-1)]: Done  34 tasks      | elapsed:    0.0s\n",
      "[Parallel(n_jobs=-1)]: Done 100 out of 100 | elapsed:    0.1s finished\n"
     ]
    },
    {
     "data": {
      "text/plain": [
       "Pipeline(steps=[('prep',\n",
       "                 ColumnTransformer(transformers=[('numeric',\n",
       "                                                  Pipeline(steps=[('imputer',\n",
       "                                                                   SimpleImputer(strategy='median'))]),\n",
       "                                                  ['Luas lantai rumah']),\n",
       "                                                 ('categoric',\n",
       "                                                  Pipeline(steps=[('imputer',\n",
       "                                                                   SimpleImputer(strategy='most_frequent'))]),\n",
       "                                                  ['Jenis lantai rumah',\n",
       "                                                   'Jenis dinding rumah',\n",
       "                                                   'Fasilitas tempat buang air '\n",
       "                                                   'besar',\n",
       "                                                   'Sumber air minum',\n",
       "                                                   'Jenis bahan bakar',\n",
       "                                                   'Sumber p...\n",
       "                                                   'Kepemilikan komputer',\n",
       "                                                   'Kepemilikan emas',\n",
       "                                                   'Kepemilikan sepeda motor',\n",
       "                                                   'Kepemilikan mobil',\n",
       "                                                   'Kepemilikan televisi',\n",
       "                                                   'Kepemilikan tanah',\n",
       "                                                   'Status tempat tinggal',\n",
       "                                                   'Kemampuan KRT berobat ke '\n",
       "                                                   'puskesmas',\n",
       "                                                   'Kepemilikan rekening '\n",
       "                                                   'tabungan KRT',\n",
       "                                                   'Pendidikan tertinggi KRT',\n",
       "                                                   'Lapangan pekerjaan '\n",
       "                                                   'KRT'])])),\n",
       "                ('algo',\n",
       "                 RandomForestClassifier(max_features='sqrt', n_jobs=-1,\n",
       "                                        random_state=1, verbose=1))])"
      ]
     },
     "execution_count": 118,
     "metadata": {},
     "output_type": "execute_result"
    }
   ],
   "source": [
    "# Pipeline untuk preprocessing dan modeling\n",
    "model = Pipeline([('prep', preprocessor),  \n",
    "                  ('algo', RandomForestClassifier(n_estimators=100, max_features='sqrt', \n",
    "                                                     n_jobs=-1, verbose=1, random_state=1))])\n",
    "model.fit(X_train, y_train)"
   ]
  },
  {
   "cell_type": "markdown",
   "metadata": {},
   "source": [
    "## Evaluasi Model"
   ]
  },
  {
   "cell_type": "markdown",
   "metadata": {},
   "source": [
    "Evaluasi model menggunakan data testing."
   ]
  },
  {
   "cell_type": "code",
   "execution_count": 119,
   "metadata": {},
   "outputs": [
    {
     "name": "stdout",
     "output_type": "stream",
     "text": [
      "Accuracy Score: 0.955614973262032\n",
      "Precision Score: 0.5\n",
      "Recall Score: 0.024096385542168676\n",
      "Specificity: 0.9988808058198098\n",
      "F1 Score: 0.04597701149425288\n",
      "MCC Score: 0.102426527245652\n"
     ]
    },
    {
     "name": "stderr",
     "output_type": "stream",
     "text": [
      "[Parallel(n_jobs=8)]: Using backend ThreadingBackend with 8 concurrent workers.\n",
      "[Parallel(n_jobs=8)]: Done  34 tasks      | elapsed:    0.0s\n",
      "[Parallel(n_jobs=8)]: Done 100 out of 100 | elapsed:    0.0s finished\n"
     ]
    }
   ],
   "source": [
    "# Indikator kriteria untuk evaluasi model\n",
    "y_test_predict = model.predict(X_test)\n",
    "\n",
    "cm_model = confusion_matrix(y_test, y_test_predict)\n",
    "\n",
    "accuracy_model = accuracy_score(y_test, y_test_predict)\n",
    "precision_model = precision_score(y_test, y_test_predict)\n",
    "recall_model = recall_score(y_test, y_test_predict)\n",
    "specificity_model = cm_model[0][0]/(cm_model[0][0]+cm_model[0][1])\n",
    "f1_score_model = f1_score(y_test, y_test_predict)\n",
    "mcc_model = matthews_corrcoef(y_test, y_test_predict)\n",
    "\n",
    "print(f\"Accuracy Score: {accuracy_model}\")\n",
    "print(f\"Precision Score: {precision_model}\")\n",
    "print(f\"Recall Score: {recall_model}\")\n",
    "print(f\"Specificity: {specificity_model}\")\n",
    "print(f\"F1 Score: {f1_score_model}\")\n",
    "print(f\"MCC Score: {mcc_model}\")"
   ]
  },
  {
   "cell_type": "code",
   "execution_count": 120,
   "metadata": {},
   "outputs": [
    {
     "name": "stderr",
     "output_type": "stream",
     "text": [
      "[Parallel(n_jobs=8)]: Using backend ThreadingBackend with 8 concurrent workers.\n",
      "[Parallel(n_jobs=8)]: Done  34 tasks      | elapsed:    0.0s\n",
      "[Parallel(n_jobs=8)]: Done 100 out of 100 | elapsed:    0.0s finished\n"
     ]
    },
    {
     "name": "stdout",
     "output_type": "stream",
     "text": [
      "0.8114494913060188\n"
     ]
    }
   ],
   "source": [
    "# Nilai AUC\n",
    "fpr_model, tpr_model, thresholds_model = roc_curve(y_test, model.predict_proba(X_test)[:,1])\n",
    "AUC_model = auc(fpr_model, tpr_model)\n",
    "print(AUC_model)"
   ]
  },
  {
   "cell_type": "code",
   "execution_count": 121,
   "metadata": {},
   "outputs": [
    {
     "data": {
      "image/png": "[encoded data removed]",
      "text/plain": [
       "<Figure size 864x288 with 3 Axes>"
      ]
     },
     "metadata": {},
     "output_type": "display_data"
    }
   ],
   "source": [
    "# Plot Gabungan Model Tanpa Penanganan Ketakseimbangan Data\n",
    "fig = plt.figure(figsize=(12,4))     \n",
    "\n",
    "ax= plt.subplot(121)\n",
    "sns.heatmap(cm_model, annot=True, fmt='g', ax=ax)\n",
    "ax.set_xlabel('Prediksi')\n",
    "ax.set_ylabel('Aktual') \n",
    "ax.set_title('(a) Confusion Matrix') \n",
    "ax.xaxis.set_ticklabels(['Tidak miskin', 'Miskin'])\n",
    "ax.yaxis.set_ticklabels(['Tidak miskin', 'Miskin'])\n",
    "\n",
    "\n",
    "ax2= plt.subplot(122)\n",
    "sns.lineplot(fpr_model, tpr_model, label='AUC Tanpa Penanganan = %0.3f)' % AUC_model,ax=ax2)\n",
    "ax2.set_xlabel(\"False Positive Rate\")\n",
    "ax2.set_ylabel(\"True Positive Rate\")\n",
    "ax2.set_title(\"(b) Kurva ROC Tanpa Penanganan Ketakseimbangan Data\")\n",
    "plt.legend(loc=\"lower right\")\n",
    "\n",
    "plt.show()"
   ]
  },
  {
   "cell_type": "markdown",
   "metadata": {},
   "source": [
    "# Penanganan Dengan Random Undersampling"
   ]
  },
  {
   "cell_type": "code",
   "execution_count": 122,
   "metadata": {},
   "outputs": [],
   "source": [
    "# Mengimport library yang dibutuhkan\n",
    "from imblearn.pipeline import Pipeline\n",
    "from imblearn.under_sampling import RandomUnderSampler"
   ]
  },
  {
   "cell_type": "markdown",
   "metadata": {},
   "source": [
    "## Preprocessing"
   ]
  },
  {
   "cell_type": "code",
   "execution_count": 123,
   "metadata": {},
   "outputs": [],
   "source": [
    "# Pipeline untuk variabel numerik, mengisi missing value dengan nilai median\n",
    "numerical_pipeline = Pipeline([\n",
    "    (\"imputer\", SimpleImputer(strategy=\"median\"))\n",
    "])\n",
    "\n",
    "# Pipeline untuk variabel kategorik, mengisi missing value dengan nilai modus\n",
    "categorical_pipeline = Pipeline([\n",
    "    (\"imputer\", SimpleImputer(strategy=\"most_frequent\"))\n",
    "])\n",
    "\n",
    "# Menempatkan setiap variabel sesuai dengan pipelinenya\n",
    "preprocessor = ColumnTransformer([\n",
    "    (\"numeric\", numerical_pipeline, ['Luas lantai rumah']),\n",
    "    (\"categoric\", categorical_pipeline,['Jenis lantai rumah', 'Jenis dinding rumah',\n",
    "       'Fasilitas tempat buang air besar', 'Sumber air minum',\n",
    "       'Jenis bahan bakar', 'Sumber penerangan',\n",
    "       'Pernah tidak makan dalam sehari',\n",
    "       'Pernah melewatkan satu waktu makan dalam sehari', 'Kepemilikan kulkas',\n",
    "       'Kepemilikan AC', 'Kepemilikan perahu', 'Kepemilikan perahu motor',\n",
    "       'Kepemilikan pemanas air', 'Kepemilikan telepon rumah',\n",
    "       'Kepemilikan komputer', 'Kepemilikan emas', 'Kepemilikan sepeda motor',\n",
    "       'Kepemilikan mobil', 'Kepemilikan televisi', 'Kepemilikan tanah',\n",
    "       'Status tempat tinggal', 'Kemampuan KRT berobat ke puskesmas',\n",
    "       'Kepemilikan rekening tabungan KRT', 'Pendidikan tertinggi KRT',\n",
    "       'Lapangan pekerjaan KRT'])\n",
    "])"
   ]
  },
  {
   "cell_type": "markdown",
   "metadata": {},
   "source": [
    "## Pipeline Training"
   ]
  },
  {
   "cell_type": "code",
   "execution_count": 124,
   "metadata": {},
   "outputs": [
    {
     "name": "stderr",
     "output_type": "stream",
     "text": [
      "[Parallel(n_jobs=-1)]: Using backend ThreadingBackend with 8 concurrent workers.\n",
      "[Parallel(n_jobs=-1)]: Done  34 tasks      | elapsed:    0.0s\n",
      "[Parallel(n_jobs=-1)]: Done 100 out of 100 | elapsed:    0.0s finished\n"
     ]
    },
    {
     "data": {
      "text/plain": [
       "Pipeline(steps=[('prep',\n",
       "                 ColumnTransformer(transformers=[('numeric',\n",
       "                                                  Pipeline(steps=[('imputer',\n",
       "                                                                   SimpleImputer(strategy='median'))]),\n",
       "                                                  ['Luas lantai rumah']),\n",
       "                                                 ('categoric',\n",
       "                                                  Pipeline(steps=[('imputer',\n",
       "                                                                   SimpleImputer(strategy='most_frequent'))]),\n",
       "                                                  ['Jenis lantai rumah',\n",
       "                                                   'Jenis dinding rumah',\n",
       "                                                   'Fasilitas tempat buang air '\n",
       "                                                   'besar',\n",
       "                                                   'Sumber air minum',\n",
       "                                                   'Jenis bahan bakar',\n",
       "                                                   'Sumber p...\n",
       "                                                   'Kepemilikan sepeda motor',\n",
       "                                                   'Kepemilikan mobil',\n",
       "                                                   'Kepemilikan televisi',\n",
       "                                                   'Kepemilikan tanah',\n",
       "                                                   'Status tempat tinggal',\n",
       "                                                   'Kemampuan KRT berobat ke '\n",
       "                                                   'puskesmas',\n",
       "                                                   'Kepemilikan rekening '\n",
       "                                                   'tabungan KRT',\n",
       "                                                   'Pendidikan tertinggi KRT',\n",
       "                                                   'Lapangan pekerjaan '\n",
       "                                                   'KRT'])])),\n",
       "                ('under', RandomUnderSampler(random_state=1)),\n",
       "                ('algo',\n",
       "                 RandomForestClassifier(max_features='sqrt', n_jobs=-1,\n",
       "                                        random_state=1, verbose=1))])"
      ]
     },
     "execution_count": 124,
     "metadata": {},
     "output_type": "execute_result"
    }
   ],
   "source": [
    "# Pipeline untuk preprocessing dan modeling\n",
    "model_rus = Pipeline([('prep', preprocessor), \n",
    "                     ('under', RandomUnderSampler(random_state=1)), \n",
    "                     ('algo', RandomForestClassifier(n_estimators=100, max_features='sqrt', \n",
    "                                                    n_jobs=-1, verbose=1, random_state=1))])\n",
    "model_rus.fit(X_train, y_train)"
   ]
  },
  {
   "cell_type": "code",
   "execution_count": 125,
   "metadata": {},
   "outputs": [
    {
     "data": {
      "text/plain": [
       "1    195\n",
       "0    195\n",
       "Name: Status RT, dtype: int64"
      ]
     },
     "execution_count": 125,
     "metadata": {},
     "output_type": "execute_result"
    }
   ],
   "source": [
    "# Melihat data setelah random undersampling\n",
    "X_train_rus, y_train_rus = model_rus.named_steps['under'].fit_resample(X_train, y_train)\n",
    "y_train_rus.value_counts()"
   ]
  },
  {
   "cell_type": "markdown",
   "metadata": {},
   "source": [
    "## Evaluasi Model"
   ]
  },
  {
   "cell_type": "code",
   "execution_count": 126,
   "metadata": {},
   "outputs": [
    {
     "name": "stdout",
     "output_type": "stream",
     "text": [
      "Accuracy Score: 0.667379679144385\n",
      "Precision Score: 0.10656934306569343\n",
      "Recall Score: 0.8795180722891566\n",
      "Specificity: 0.6575265808617795\n",
      "F1 Score: 0.19010416666666666\n",
      "MCC Score: 0.22956583694831223\n"
     ]
    },
    {
     "name": "stderr",
     "output_type": "stream",
     "text": [
      "[Parallel(n_jobs=8)]: Using backend ThreadingBackend with 8 concurrent workers.\n",
      "[Parallel(n_jobs=8)]: Done  34 tasks      | elapsed:    0.0s\n",
      "[Parallel(n_jobs=8)]: Done 100 out of 100 | elapsed:    0.0s finished\n"
     ]
    }
   ],
   "source": [
    "# Indikator kriteria untuk evaluasi model \n",
    "y_test_predict = model_rus.predict(X_test)\n",
    "\n",
    "cm_rus = confusion_matrix(y_test, y_test_predict)\n",
    "\n",
    "accuracy_rus = accuracy_score(y_test, y_test_predict)\n",
    "precision_rus = precision_score(y_test, y_test_predict)\n",
    "recall_rus = recall_score(y_test, y_test_predict)\n",
    "specificity_rus = cm_rus[0][0]/(cm_rus[0][0]+cm_rus[0][1])\n",
    "f1_score_rus = f1_score(y_test, y_test_predict)\n",
    "mcc_rus = matthews_corrcoef(y_test, y_test_predict)\n",
    "\n",
    "print(f\"Accuracy Score: {accuracy_rus}\")\n",
    "print(f\"Precision Score: {precision_rus}\")\n",
    "print(f\"Recall Score: {recall_rus}\")\n",
    "print(f\"Specificity: {specificity_rus}\")\n",
    "print(f\"F1 Score: {f1_score_rus}\")\n",
    "print(f\"MCC Score: {mcc_rus}\")"
   ]
  },
  {
   "cell_type": "code",
   "execution_count": 127,
   "metadata": {},
   "outputs": [
    {
     "name": "stderr",
     "output_type": "stream",
     "text": [
      "[Parallel(n_jobs=8)]: Using backend ThreadingBackend with 8 concurrent workers.\n",
      "[Parallel(n_jobs=8)]: Done  34 tasks      | elapsed:    0.0s\n",
      "[Parallel(n_jobs=8)]: Done 100 out of 100 | elapsed:    0.0s finished\n"
     ]
    },
    {
     "name": "stdout",
     "output_type": "stream",
     "text": [
      "0.8415564889664983\n"
     ]
    }
   ],
   "source": [
    "# Nilai AUC\n",
    "fpr_rus, tpr_rus, thresholds_rus = roc_curve(y_test, model_rus.predict_proba(X_test)[:,1])\n",
    "AUC_rus = auc(fpr_rus, tpr_rus)\n",
    "print(AUC_rus)"
   ]
  },
  {
   "cell_type": "code",
   "execution_count": 128,
   "metadata": {},
   "outputs": [
    {
     "data": {
      "image/png": "[encoded data removed]",
      "text/plain": [
       "<Figure size 864x288 with 3 Axes>"
      ]
     },
     "metadata": {},
     "output_type": "display_data"
    }
   ],
   "source": [
    "# Plot Gabungan Model dengan Random Undersampling\n",
    "fig = plt.figure(figsize=(12,4))      \n",
    "\n",
    "ax= plt.subplot(121)\n",
    "sns.heatmap(cm_rus, annot=True, fmt='g', ax=ax)\n",
    "ax.set_xlabel('Prediksi')\n",
    "ax.set_ylabel('Aktual') \n",
    "ax.set_title('(a) Confusion Matrix') \n",
    "ax.xaxis.set_ticklabels(['Tidak miskin', 'Miskin'])\n",
    "ax.yaxis.set_ticklabels(['Tidak miskin', 'Miskin'])\n",
    "\n",
    "\n",
    "ax2= plt.subplot(122)\n",
    "sns.lineplot(fpr_rus, tpr_rus, label='AUC (Random Undersampling) = %0.3f)' % AUC_rus, ax=ax2)\n",
    "ax2.set_xlabel(\"False Positive Rate\")\n",
    "ax2.set_ylabel(\"True Positive Rate\")\n",
    "ax2.set_title(\"(b) ROC Curve (Random Undersampling)\")\n",
    "plt.legend(loc=\"lower right\")\n",
    "\n",
    "plt.show()"
   ]
  },
  {
   "cell_type": "markdown",
   "metadata": {},
   "source": [
    "# Penanganan Dengan Random Oversampling"
   ]
  },
  {
   "cell_type": "code",
   "execution_count": 129,
   "metadata": {},
   "outputs": [],
   "source": [
    "# Mengimport library yang dibutuhkan\n",
    "from imblearn.pipeline import Pipeline\n",
    "from imblearn.over_sampling import RandomOverSampler"
   ]
  },
  {
   "cell_type": "markdown",
   "metadata": {},
   "source": [
    "## Preprocessing"
   ]
  },
  {
   "cell_type": "code",
   "execution_count": 130,
   "metadata": {},
   "outputs": [],
   "source": [
    "# Pipeline untuk variabel numerik, mengisi missing value dengan nilai median\n",
    "numerical_pipeline = Pipeline([\n",
    "    (\"imputer\", SimpleImputer(strategy=\"median\"))\n",
    "])\n",
    "\n",
    "# Pipeline untuk variabel kategorik, mengisi missing value dengan nilai modus\n",
    "categorical_pipeline = Pipeline([\n",
    "    (\"imputer\", SimpleImputer(strategy=\"most_frequent\"))\n",
    "])\n",
    "\n",
    "# Menempatkan setiap variabel sesuai dengan pipelinenya\n",
    "preprocessor = ColumnTransformer([\n",
    "    (\"numeric\", numerical_pipeline, ['Luas lantai rumah']),\n",
    "    (\"categoric\", categorical_pipeline,['Jenis lantai rumah', 'Jenis dinding rumah',\n",
    "       'Fasilitas tempat buang air besar', 'Sumber air minum',\n",
    "       'Jenis bahan bakar', 'Sumber penerangan',\n",
    "       'Pernah tidak makan dalam sehari',\n",
    "       'Pernah melewatkan satu waktu makan dalam sehari', 'Kepemilikan kulkas',\n",
    "       'Kepemilikan AC', 'Kepemilikan perahu', 'Kepemilikan perahu motor',\n",
    "       'Kepemilikan pemanas air', 'Kepemilikan telepon rumah',\n",
    "       'Kepemilikan komputer', 'Kepemilikan emas', 'Kepemilikan sepeda motor',\n",
    "       'Kepemilikan mobil', 'Kepemilikan televisi', 'Kepemilikan tanah',\n",
    "       'Status tempat tinggal', 'Kemampuan KRT berobat ke puskesmas',\n",
    "       'Kepemilikan rekening tabungan KRT', 'Pendidikan tertinggi KRT',\n",
    "       'Lapangan pekerjaan KRT'])\n",
    "])"
   ]
  },
  {
   "cell_type": "markdown",
   "metadata": {},
   "source": [
    "## Pipeline Training"
   ]
  },
  {
   "cell_type": "code",
   "execution_count": 131,
   "metadata": {},
   "outputs": [
    {
     "name": "stderr",
     "output_type": "stream",
     "text": [
      "[Parallel(n_jobs=-1)]: Using backend ThreadingBackend with 8 concurrent workers.\n",
      "[Parallel(n_jobs=-1)]: Done  34 tasks      | elapsed:    0.0s\n",
      "[Parallel(n_jobs=-1)]: Done 100 out of 100 | elapsed:    0.1s finished\n"
     ]
    },
    {
     "data": {
      "text/plain": [
       "Pipeline(steps=[('prep',\n",
       "                 ColumnTransformer(transformers=[('numeric',\n",
       "                                                  Pipeline(steps=[('imputer',\n",
       "                                                                   SimpleImputer(strategy='median'))]),\n",
       "                                                  ['Luas lantai rumah']),\n",
       "                                                 ('categoric',\n",
       "                                                  Pipeline(steps=[('imputer',\n",
       "                                                                   SimpleImputer(strategy='most_frequent'))]),\n",
       "                                                  ['Jenis lantai rumah',\n",
       "                                                   'Jenis dinding rumah',\n",
       "                                                   'Fasilitas tempat buang air '\n",
       "                                                   'besar',\n",
       "                                                   'Sumber air minum',\n",
       "                                                   'Jenis bahan bakar',\n",
       "                                                   'Sumber p...\n",
       "                                                   'Kepemilikan sepeda motor',\n",
       "                                                   'Kepemilikan mobil',\n",
       "                                                   'Kepemilikan televisi',\n",
       "                                                   'Kepemilikan tanah',\n",
       "                                                   'Status tempat tinggal',\n",
       "                                                   'Kemampuan KRT berobat ke '\n",
       "                                                   'puskesmas',\n",
       "                                                   'Kepemilikan rekening '\n",
       "                                                   'tabungan KRT',\n",
       "                                                   'Pendidikan tertinggi KRT',\n",
       "                                                   'Lapangan pekerjaan '\n",
       "                                                   'KRT'])])),\n",
       "                ('over', RandomOverSampler(random_state=1)),\n",
       "                ('algo',\n",
       "                 RandomForestClassifier(max_features='sqrt', n_jobs=-1,\n",
       "                                        random_state=22, verbose=1))])"
      ]
     },
     "execution_count": 131,
     "metadata": {},
     "output_type": "execute_result"
    }
   ],
   "source": [
    "# Pipeline untuk preprocessing dan modeling\n",
    "model_ros = Pipeline([('prep', preprocessor),\n",
    "                     ('over', RandomOverSampler(random_state=1)),  \n",
    "                     ('algo', RandomForestClassifier(n_estimators=100, max_features='sqrt', \n",
    "                                                     n_jobs=-1, verbose=1, random_state=22))])\n",
    "model_ros.fit(X_train, y_train)"
   ]
  },
  {
   "cell_type": "code",
   "execution_count": 132,
   "metadata": {},
   "outputs": [
    {
     "data": {
      "text/plain": [
       "1    4166\n",
       "0    4166\n",
       "Name: Status RT, dtype: int64"
      ]
     },
     "execution_count": 132,
     "metadata": {},
     "output_type": "execute_result"
    }
   ],
   "source": [
    "# Melihat data setelah random oversampling\n",
    "X_train_ros, y_train_ros = model_ros.named_steps['over'].fit_resample(X_train, y_train)\n",
    "y_train_ros.value_counts()"
   ]
  },
  {
   "cell_type": "markdown",
   "metadata": {},
   "source": [
    "## Evaluasi Model"
   ]
  },
  {
   "cell_type": "code",
   "execution_count": 133,
   "metadata": {},
   "outputs": [
    {
     "name": "stdout",
     "output_type": "stream",
     "text": [
      "Accuracy Score: 0.9529411764705882\n",
      "Precision Score: 0.3076923076923077\n",
      "Recall Score: 0.04819277108433735\n",
      "Specificity: 0.9949636261891438\n",
      "F1 Score: 0.08333333333333334\n",
      "MCC Score: 0.1069716948376522\n"
     ]
    },
    {
     "name": "stderr",
     "output_type": "stream",
     "text": [
      "[Parallel(n_jobs=8)]: Using backend ThreadingBackend with 8 concurrent workers.\n",
      "[Parallel(n_jobs=8)]: Done  34 tasks      | elapsed:    0.0s\n",
      "[Parallel(n_jobs=8)]: Done 100 out of 100 | elapsed:    0.0s finished\n"
     ]
    }
   ],
   "source": [
    "# Indikator kriteria untuk evaluasi model\n",
    "y_test_predict = model_ros.predict(X_test)\n",
    "\n",
    "cm_ros = confusion_matrix(y_test, y_test_predict)\n",
    "\n",
    "accuracy_ros = accuracy_score(y_test, y_test_predict)\n",
    "precision_ros = precision_score(y_test, y_test_predict)\n",
    "recall_ros = recall_score(y_test, y_test_predict)\n",
    "specificity_ros = cm_ros[0][0]/(cm_ros[0][0]+cm_ros[0][1])\n",
    "f1_score_ros = f1_score(y_test, y_test_predict)\n",
    "mcc_ros = matthews_corrcoef(y_test, y_test_predict)\n",
    "\n",
    "print(f\"Accuracy Score: {accuracy_ros}\")\n",
    "print(f\"Precision Score: {precision_ros}\")\n",
    "print(f\"Recall Score: {recall_ros}\")\n",
    "print(f\"Specificity: {specificity_ros}\")\n",
    "print(f\"F1 Score: {f1_score_ros}\")\n",
    "print(f\"MCC Score: {mcc_ros}\")"
   ]
  },
  {
   "cell_type": "code",
   "execution_count": 134,
   "metadata": {},
   "outputs": [
    {
     "name": "stderr",
     "output_type": "stream",
     "text": [
      "[Parallel(n_jobs=8)]: Using backend ThreadingBackend with 8 concurrent workers.\n",
      "[Parallel(n_jobs=8)]: Done  34 tasks      | elapsed:    0.0s\n",
      "[Parallel(n_jobs=8)]: Done 100 out of 100 | elapsed:    0.0s finished\n"
     ]
    },
    {
     "name": "stdout",
     "output_type": "stream",
     "text": [
      "0.8161217899016322\n"
     ]
    }
   ],
   "source": [
    "# Nilai AUC\n",
    "fpr_ros, tpr_ros, thresholds_ros = roc_curve(y_test, model_ros.predict_proba(X_test)[:,1])\n",
    "AUC_ros = auc(fpr_ros, tpr_ros)\n",
    "print(AUC_ros)"
   ]
  },
  {
   "cell_type": "code",
   "execution_count": 135,
   "metadata": {},
   "outputs": [
    {
     "data": {
      "image/png": "[encoded data removed]",
      "text/plain": [
       "<Figure size 864x288 with 3 Axes>"
      ]
     },
     "metadata": {},
     "output_type": "display_data"
    }
   ],
   "source": [
    "# Plot Gabungan Model dengan Random Oversampling\n",
    "fig = plt.figure(figsize=(12,4))     \n",
    "\n",
    "ax= plt.subplot(121)\n",
    "sns.heatmap(cm_ros, annot=True, fmt='g', ax=ax)\n",
    "ax.set_xlabel('Prediksi')\n",
    "ax.set_ylabel('Aktual') \n",
    "ax.set_title('(a) Confusion Matrix') \n",
    "ax.xaxis.set_ticklabels(['Tidak miskin', 'Miskin'])\n",
    "ax.yaxis.set_ticklabels(['Tidak miskin', 'Miskin'])\n",
    "\n",
    "\n",
    "ax2= plt.subplot(122)\n",
    "sns.lineplot(fpr_ros, tpr_ros, label='AUC (Random Oversampling) = %0.3f)' % AUC_ros, ax=ax2)\n",
    "ax2.set_xlabel(\"False Positive Rate\")\n",
    "ax2.set_ylabel(\"True Positive Rate\")\n",
    "ax2.set_title(\"(b) ROC Curve (Random Oversampling)\")\n",
    "plt.legend(loc=\"lower right\")\n",
    "\n",
    "plt.show()"
   ]
  },
  {
   "cell_type": "markdown",
   "metadata": {},
   "source": [
    "# Penanganan Dengan SMOTE"
   ]
  },
  {
   "cell_type": "markdown",
   "metadata": {},
   "source": [
    "Karena data terdiri dari variabel numerik dan kategorik maka metode SMOTE yang digunakan adalah SMOTENC."
   ]
  },
  {
   "cell_type": "code",
   "execution_count": 136,
   "metadata": {},
   "outputs": [],
   "source": [
    "# Mengimport library yang dibutuhkan\n",
    "from imblearn.pipeline import Pipeline\n",
    "from imblearn.over_sampling import SMOTENC"
   ]
  },
  {
   "cell_type": "markdown",
   "metadata": {},
   "source": [
    "## Preprocessing"
   ]
  },
  {
   "cell_type": "code",
   "execution_count": 137,
   "metadata": {},
   "outputs": [],
   "source": [
    "# Pipeline untuk variabel numerik, mengisi missing value dengan nilai median\n",
    "numerical_pipeline = Pipeline([\n",
    "    (\"imputer\", SimpleImputer(strategy=\"median\"))\n",
    "])\n",
    "\n",
    "# Pipeline untuk variabel kategorik, mengisi missing value dengan nilai modus\n",
    "categorical_pipeline = Pipeline([\n",
    "    (\"imputer\", SimpleImputer(strategy=\"most_frequent\"))\n",
    "])\n",
    "\n",
    "# Menempatkan setiap variabel sesuai dengan pipelinenya\n",
    "preprocessor = ColumnTransformer([\n",
    "    (\"numeric\", numerical_pipeline, ['Luas lantai rumah']),\n",
    "    (\"categoric\", categorical_pipeline,['Jenis lantai rumah', 'Jenis dinding rumah',\n",
    "       'Fasilitas tempat buang air besar', 'Sumber air minum',\n",
    "       'Jenis bahan bakar', 'Sumber penerangan',\n",
    "       'Pernah tidak makan dalam sehari',\n",
    "       'Pernah melewatkan satu waktu makan dalam sehari', 'Kepemilikan kulkas',\n",
    "       'Kepemilikan AC', 'Kepemilikan perahu', 'Kepemilikan perahu motor',\n",
    "       'Kepemilikan pemanas air', 'Kepemilikan telepon rumah',\n",
    "       'Kepemilikan komputer', 'Kepemilikan emas', 'Kepemilikan sepeda motor',\n",
    "       'Kepemilikan mobil', 'Kepemilikan televisi', 'Kepemilikan tanah',\n",
    "       'Status tempat tinggal', 'Kemampuan KRT berobat ke puskesmas',\n",
    "       'Kepemilikan rekening tabungan KRT', 'Pendidikan tertinggi KRT',\n",
    "       'Lapangan pekerjaan KRT'])\n",
    "])"
   ]
  },
  {
   "cell_type": "markdown",
   "metadata": {},
   "source": [
    "## Pipeline Training"
   ]
  },
  {
   "cell_type": "code",
   "execution_count": 138,
   "metadata": {},
   "outputs": [],
   "source": [
    "# Variabel prediktor yang termasuk variabel kategorik\n",
    "cat_indices = [1,2,3,4,5,6,8,9,10,11,12,13,14,15,16,17,18,19,20,21,22,23,24,25]"
   ]
  },
  {
   "cell_type": "code",
   "execution_count": 139,
   "metadata": {},
   "outputs": [
    {
     "name": "stderr",
     "output_type": "stream",
     "text": [
      "[Parallel(n_jobs=-1)]: Using backend ThreadingBackend with 8 concurrent workers.\n",
      "[Parallel(n_jobs=-1)]: Done  34 tasks      | elapsed:    0.0s\n",
      "[Parallel(n_jobs=-1)]: Done 100 out of 100 | elapsed:    0.1s finished\n"
     ]
    },
    {
     "data": {
      "text/plain": [
       "Pipeline(steps=[('prep',\n",
       "                 ColumnTransformer(transformers=[('numeric',\n",
       "                                                  Pipeline(steps=[('imputer',\n",
       "                                                                   SimpleImputer(strategy='median'))]),\n",
       "                                                  ['Luas lantai rumah']),\n",
       "                                                 ('categoric',\n",
       "                                                  Pipeline(steps=[('imputer',\n",
       "                                                                   SimpleImputer(strategy='most_frequent'))]),\n",
       "                                                  ['Jenis lantai rumah',\n",
       "                                                   'Jenis dinding rumah',\n",
       "                                                   'Fasilitas tempat buang air '\n",
       "                                                   'besar',\n",
       "                                                   'Sumber air minum',\n",
       "                                                   'Jenis bahan bakar',\n",
       "                                                   'Sumber p...\n",
       "                                                   'Status tempat tinggal',\n",
       "                                                   'Kemampuan KRT berobat ke '\n",
       "                                                   'puskesmas',\n",
       "                                                   'Kepemilikan rekening '\n",
       "                                                   'tabungan KRT',\n",
       "                                                   'Pendidikan tertinggi KRT',\n",
       "                                                   'Lapangan pekerjaan '\n",
       "                                                   'KRT'])])),\n",
       "                ('smotenc',\n",
       "                 SMOTENC(categorical_features=[1, 2, 3, 4, 5, 6, 8, 9, 10, 11,\n",
       "                                               12, 13, 14, 15, 16, 17, 18, 19,\n",
       "                                               20, 21, 22, 23, 24, 25],\n",
       "                         random_state=1)),\n",
       "                ('algo',\n",
       "                 RandomForestClassifier(max_features='sqrt', n_jobs=-1,\n",
       "                                        random_state=1, verbose=1))])"
      ]
     },
     "execution_count": 139,
     "metadata": {},
     "output_type": "execute_result"
    }
   ],
   "source": [
    "# Pipeline untuk preprocessing dan modeling\n",
    "model_smotenc = Pipeline([('prep', preprocessor), \n",
    "                     ('smotenc', SMOTENC(categorical_features=cat_indices, random_state=1)), \n",
    "                     ('algo', RandomForestClassifier(n_estimators=100, max_features='sqrt', \n",
    "                                                     n_jobs=-1, verbose=1, random_state=1))])\n",
    "model_smotenc.fit(X_train, y_train)"
   ]
  },
  {
   "cell_type": "markdown",
   "metadata": {},
   "source": [
    "## Evaluasi Model"
   ]
  },
  {
   "cell_type": "code",
   "execution_count": 140,
   "metadata": {},
   "outputs": [
    {
     "name": "stderr",
     "output_type": "stream",
     "text": [
      "[Parallel(n_jobs=8)]: Using backend ThreadingBackend with 8 concurrent workers.\n",
      "[Parallel(n_jobs=8)]: Done  34 tasks      | elapsed:    0.0s\n"
     ]
    },
    {
     "name": "stdout",
     "output_type": "stream",
     "text": [
      "Accuracy Score: 0.9352941176470588\n",
      "Precision Score: 0.1935483870967742\n",
      "Recall Score: 0.14457831325301204\n",
      "Specificty: 0.9720201454952434\n",
      "F1 Score: 0.16551724137931034\n",
      "MCC Score: 0.13412170768409673\n"
     ]
    },
    {
     "name": "stderr",
     "output_type": "stream",
     "text": [
      "[Parallel(n_jobs=8)]: Done 100 out of 100 | elapsed:    0.0s finished\n"
     ]
    }
   ],
   "source": [
    "# Indikator kriteria untuk evaluasi model\n",
    "y_test_predict = model_smotenc.predict(X_test)\n",
    "\n",
    "cm_smotenc = confusion_matrix(y_test, y_test_predict)\n",
    "\n",
    "accuracy_smotenc = accuracy_score(y_test, y_test_predict)\n",
    "precision_smotenc = precision_score(y_test, y_test_predict)\n",
    "recall_smotenc = recall_score(y_test, y_test_predict)\n",
    "specificity_smotenc = cm_smotenc[0][0]/(cm_smotenc[0][0]+cm_smotenc[0][1])\n",
    "f1_score_smotenc = f1_score(y_test, y_test_predict)\n",
    "mcc_smotenc = matthews_corrcoef(y_test, y_test_predict)\n",
    "\n",
    "print(f\"Accuracy Score: {accuracy_smotenc}\")\n",
    "print(f\"Precision Score: {precision_smotenc}\")\n",
    "print(f\"Recall Score: {recall_smotenc}\")\n",
    "print(f\"Specificty: {specificity_smotenc}\")\n",
    "print(f\"F1 Score: {f1_score_smotenc}\")\n",
    "print(f\"MCC Score: {mcc_smotenc}\")"
   ]
  },
  {
   "cell_type": "code",
   "execution_count": 141,
   "metadata": {},
   "outputs": [
    {
     "name": "stderr",
     "output_type": "stream",
     "text": [
      "[Parallel(n_jobs=8)]: Using backend ThreadingBackend with 8 concurrent workers.\n",
      "[Parallel(n_jobs=8)]: Done  34 tasks      | elapsed:    0.0s\n",
      "[Parallel(n_jobs=8)]: Done 100 out of 100 | elapsed:    0.0s finished\n"
     ]
    },
    {
     "name": "stdout",
     "output_type": "stream",
     "text": [
      "0.8218930562765893\n"
     ]
    }
   ],
   "source": [
    "# Nilai AUC\n",
    "fpr_smotenc, tpr_smotenc, threshold_smotenc = roc_curve(y_test, model_smotenc.predict_proba(X_test)[:,1])\n",
    "AUC_smotenc = auc(fpr_smotenc, tpr_smotenc)\n",
    "print(AUC_smotenc)"
   ]
  },
  {
   "cell_type": "code",
   "execution_count": 142,
   "metadata": {},
   "outputs": [
    {
     "data": {
      "image/png": "[encoded data removed]",
      "text/plain": [
       "<Figure size 864x288 with 3 Axes>"
      ]
     },
     "metadata": {},
     "output_type": "display_data"
    }
   ],
   "source": [
    "# Plot Gabungan Model dengan SMOTENC\n",
    "fig = plt.figure(figsize=(12,4))       \n",
    "\n",
    "ax= plt.subplot(121)\n",
    "sns.heatmap(cm_smotenc, annot=True, fmt='g', ax=ax)\n",
    "ax.set_xlabel('Prediksi')\n",
    "ax.set_ylabel('Aktual') \n",
    "ax.set_title('(a) Confusion Matrix') \n",
    "ax.xaxis.set_ticklabels(['Tidak miskin', 'Miskin'])\n",
    "ax.yaxis.set_ticklabels(['Tidak miskin', 'Miskin'])\n",
    "\n",
    "\n",
    "ax2= plt.subplot(122)\n",
    "sns.lineplot(fpr_smotenc, tpr_smotenc, label='AUC (SMOTENC) = %0.3f)' % AUC_smotenc, ax=ax2)\n",
    "ax2.set_xlabel(\"False Positive Rate\")\n",
    "ax2.set_ylabel(\"True Positive Rate\")\n",
    "ax2.set_title(\"(b) ROC Curve (SMOTENC)\")\n",
    "plt.legend(loc=\"lower right\")\n",
    "\n",
    "plt.show()"
   ]
  },
  {
   "cell_type": "markdown",
   "metadata": {},
   "source": [
    "# Rangkuman Hasil Evaluasi Model"
   ]
  },
  {
   "cell_type": "code",
   "execution_count": 143,
   "metadata": {},
   "outputs": [
    {
     "data": {
      "image/png": "[encoded data removed]",
      "text/plain": [
       "<Figure size 432x288 with 1 Axes>"
      ]
     },
     "metadata": {},
     "output_type": "display_data"
    }
   ],
   "source": [
    "# Plot Kurva ROC dari keseluruhan model\n",
    "plt.figure()\n",
    "\n",
    "sns.set(font_scale=1)\n",
    "plt.plot(fpr_model, tpr_model, label='AUC Tanpa Penanganan = %0.2f' % AUC_model, color = 'red')\n",
    "plt.plot(fpr_rus, tpr_rus, label='AUC (Random Undersampling) = %0.2f' % AUC_rus, color='darkorange')\n",
    "plt.plot(fpr_ros, tpr_ros, label='AUC (Random Oversampling) = %0.2f' % AUC_ros, color ='blue')\n",
    "plt.plot(fpr_smotenc, tpr_smotenc, label='AUC (SMOTENC) = %0.2f)' % AUC_smotenc, color='green')\n",
    "\n",
    "plt.xlabel(\"False Positive Rate\")\n",
    "plt.ylabel(\"True Positive Rate\")\n",
    "plt.title(\"ROC Curve Random Forest\")\n",
    "plt.legend(loc=\"lower right\")\n",
    "\n",
    "plt.show()"
   ]
  },
  {
   "cell_type": "code",
   "execution_count": 144,
   "metadata": {},
   "outputs": [
    {
     "data": {
      "text/html": [
       "<div>\n",
       "<style scoped>\n",
       "    .dataframe tbody tr th:only-of-type {\n",
       "        vertical-align: middle;\n",
       "    }\n",
       "\n",
       "    .dataframe tbody tr th {\n",
       "        vertical-align: top;\n",
       "    }\n",
       "\n",
       "    .dataframe thead th {\n",
       "        text-align: right;\n",
       "    }\n",
       "</style>\n",
       "<table border=\"1\" class=\"dataframe\">\n",
       "  <thead>\n",
       "    <tr style=\"text-align: right;\">\n",
       "      <th></th>\n",
       "      <th>Model</th>\n",
       "      <th>Accuracy</th>\n",
       "      <th>Precision</th>\n",
       "      <th>Recall</th>\n",
       "      <th>Specificity</th>\n",
       "      <th>F1 Score</th>\n",
       "      <th>MCC</th>\n",
       "      <th>AUC</th>\n",
       "    </tr>\n",
       "  </thead>\n",
       "  <tbody>\n",
       "    <tr>\n",
       "      <th>0</th>\n",
       "      <td>Model Tanpa Penanganan</td>\n",
       "      <td>0.955615</td>\n",
       "      <td>0.500000</td>\n",
       "      <td>0.024096</td>\n",
       "      <td>0.998881</td>\n",
       "      <td>0.045977</td>\n",
       "      <td>0.102427</td>\n",
       "      <td>0.811449</td>\n",
       "    </tr>\n",
       "    <tr>\n",
       "      <th>1</th>\n",
       "      <td>Model Random Undersampling</td>\n",
       "      <td>0.667380</td>\n",
       "      <td>0.106569</td>\n",
       "      <td>0.879518</td>\n",
       "      <td>0.657527</td>\n",
       "      <td>0.190104</td>\n",
       "      <td>0.229566</td>\n",
       "      <td>0.841556</td>\n",
       "    </tr>\n",
       "    <tr>\n",
       "      <th>2</th>\n",
       "      <td>Model Random Oversampling</td>\n",
       "      <td>0.952941</td>\n",
       "      <td>0.307692</td>\n",
       "      <td>0.048193</td>\n",
       "      <td>0.994964</td>\n",
       "      <td>0.083333</td>\n",
       "      <td>0.106972</td>\n",
       "      <td>0.816122</td>\n",
       "    </tr>\n",
       "    <tr>\n",
       "      <th>3</th>\n",
       "      <td>SMOTENC</td>\n",
       "      <td>0.935294</td>\n",
       "      <td>0.193548</td>\n",
       "      <td>0.144578</td>\n",
       "      <td>0.972020</td>\n",
       "      <td>0.165517</td>\n",
       "      <td>0.134122</td>\n",
       "      <td>0.821893</td>\n",
       "    </tr>\n",
       "  </tbody>\n",
       "</table>\n",
       "</div>"
      ],
      "text/plain": [
       "                        Model  Accuracy  Precision    Recall  Specificity  \\\n",
       "0      Model Tanpa Penanganan  0.955615   0.500000  0.024096     0.998881   \n",
       "1  Model Random Undersampling  0.667380   0.106569  0.879518     0.657527   \n",
       "2   Model Random Oversampling  0.952941   0.307692  0.048193     0.994964   \n",
       "3                     SMOTENC  0.935294   0.193548  0.144578     0.972020   \n",
       "\n",
       "   F1 Score       MCC       AUC  \n",
       "0  0.045977  0.102427  0.811449  \n",
       "1  0.190104  0.229566  0.841556  \n",
       "2  0.083333  0.106972  0.816122  \n",
       "3  0.165517  0.134122  0.821893  "
      ]
     },
     "execution_count": 144,
     "metadata": {},
     "output_type": "execute_result"
    }
   ],
   "source": [
    "# Indikator kriteria untuk evaluasi dari keseluruhan model\n",
    "hasil_rf = pd.DataFrame({'Model' : ['Model Tanpa Penanganan', 'Model Random Undersampling', 'Model Random Oversampling', 'SMOTENC'],\n",
    "    'Accuracy' : [accuracy_model, accuracy_rus, accuracy_ros, accuracy_smotenc],\n",
    "    'Precision' : [precision_model, precision_rus, precision_ros, precision_smotenc],\n",
    "    'Recall': [recall_model, recall_rus, recall_ros, recall_smotenc],\n",
    "    'Specificity' : [specificity_model, specificity_rus, specificity_ros, specificity_smotenc],\n",
    "    'F1 Score' : [f1_score_model, f1_score_rus, f1_score_ros, f1_score_smotenc],\n",
    "    'MCC' : [mcc_model, mcc_rus, mcc_ros, mcc_smotenc],\n",
    "    'AUC': [AUC_model, AUC_rus, AUC_ros, AUC_smotenc]\n",
    "})\n",
    "hasil_rf"
   ]
  },
  {
   "cell_type": "code",
   "execution_count": 145,
   "metadata": {},
   "outputs": [],
   "source": [
    "# Eksport ke CSV file\n",
    "hasil_rf.to_excel('hasil_rf.xlsx', index=False)"
   ]
  }
 ],
 "metadata": {
  "kernelspec": {
   "display_name": "Python [conda env:imb]",
   "language": "python",
   "name": "conda-env-imb-py"
  },
  "language_info": {
   "codemirror_mode": {
    "name": "ipython",
    "version": 3
   },
   "file_extension": ".py",
   "mimetype": "text/x-python",
   "name": "python",
   "nbconvert_exporter": "python",
   "pygments_lexer": "ipython3",
   "version": "3.7.0"
  },
  "toc": {
   "base_numbering": 1,
   "nav_menu": {},
   "number_sections": true,
   "sideBar": true,
   "skip_h1_title": false,
   "title_cell": "Table of Contents",
   "title_sidebar": "Contents",
   "toc_cell": false,
   "toc_position": {
    "height": "calc(100% - 180px)",
    "left": "10px",
    "top": "150px",
    "width": "273.172px"
   },
   "toc_section_display": true,
   "toc_window_display": true
  }
 },
 "nbformat": 4,
 "nbformat_minor": 4
}
